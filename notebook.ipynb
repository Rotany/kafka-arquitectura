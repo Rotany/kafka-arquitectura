{
 "cells": [
  {
   "cell_type": "markdown",
   "metadata": {},
   "source": [
    "# El consumidor estara escuchando los topics que estamos enviando desde la aplicación.\n",
    "Primero recomendamos ejecutar el archivo main.py que contiene la logica del productor, despues ejecutar la celda del consumidor. Que es la que esta abajo\n",
    "El output mostrado es los nombres de los miembros de este grupo, generados con la aplicación de python"
   ]
  },
  {
   "cell_type": "code",
   "execution_count": 1,
   "metadata": {},
   "outputs": [
    {
     "name": "stdout",
     "output_type": "stream",
     "text": [
      "Mensaje recibido: Tanya conectado en 2024-02-23 14:03:30.001437\n",
      "Mensaje recibido: Jaime conectado en 2024-02-23 14:03:56.876244\n",
      "Mensaje recibido: Jose conectado en 2024-02-23 14:04:05.100493\n",
      "Mensaje recibido: Mauricio conectado en 2024-02-23 14:04:24.301901\n",
      "Mensaje recibido: Fabricio conectado en 2024-02-23 14:04:30.381958\n"
     ]
    },
    {
     "ename": "KeyboardInterrupt",
     "evalue": "",
     "output_type": "error",
     "traceback": [
      "\u001b[0;31m---------------------------------------------------------------------------\u001b[0m",
      "\u001b[0;31mKeyboardInterrupt\u001b[0m                         Traceback (most recent call last)",
      "Cell \u001b[0;32mIn[1], line 20\u001b[0m\n\u001b[1;32m     18\u001b[0m \u001b[38;5;66;03m# Mantener el consumidor siempre escuchando\u001b[39;00m\n\u001b[1;32m     19\u001b[0m \u001b[38;5;28;01mwhile\u001b[39;00m \u001b[38;5;28;01mTrue\u001b[39;00m:\n\u001b[0;32m---> 20\u001b[0m     \u001b[43mreceive_message\u001b[49m\u001b[43m(\u001b[49m\u001b[43m)\u001b[49m\n",
      "Cell \u001b[0;32mIn[1], line 14\u001b[0m, in \u001b[0;36mreceive_message\u001b[0;34m()\u001b[0m\n\u001b[1;32m     13\u001b[0m \u001b[38;5;28;01mdef\u001b[39;00m \u001b[38;5;21mreceive_message\u001b[39m():\n\u001b[0;32m---> 14\u001b[0m     msg \u001b[38;5;241m=\u001b[39m \u001b[43mconsumer\u001b[49m\u001b[38;5;241;43m.\u001b[39;49m\u001b[43mpoll\u001b[49m\u001b[43m(\u001b[49m\u001b[43mtimeout\u001b[49m\u001b[38;5;241;43m=\u001b[39;49m\u001b[38;5;241;43m1.0\u001b[39;49m\u001b[43m)\u001b[49m\n\u001b[1;32m     15\u001b[0m     \u001b[38;5;28;01mif\u001b[39;00m msg \u001b[38;5;129;01mis\u001b[39;00m \u001b[38;5;129;01mnot\u001b[39;00m \u001b[38;5;28;01mNone\u001b[39;00m:\n\u001b[1;32m     16\u001b[0m         \u001b[38;5;28mprint\u001b[39m(\u001b[38;5;124m'\u001b[39m\u001b[38;5;124mMensaje recibido: \u001b[39m\u001b[38;5;132;01m{}\u001b[39;00m\u001b[38;5;124m'\u001b[39m\u001b[38;5;241m.\u001b[39mformat(msg\u001b[38;5;241m.\u001b[39mvalue()\u001b[38;5;241m.\u001b[39mdecode(\u001b[38;5;124m'\u001b[39m\u001b[38;5;124mutf-8\u001b[39m\u001b[38;5;124m'\u001b[39m)))\n",
      "\u001b[0;31mKeyboardInterrupt\u001b[0m: "
     ]
    },
    {
     "name": "stderr",
     "output_type": "stream",
     "text": [
      "%4|1708693799.681|MAXPOLL|rdkafka#consumer-1| [thrd:main]: Application maximum poll interval (300000ms) exceeded by 296ms (adjust max.poll.interval.ms for long-running message processing): leaving group\n"
     ]
    }
   ],
   "source": [
    "from confluent_kafka import Consumer\n",
    "\n",
    "# Configuración del consumidor\n",
    "consumer_conf = {'bootstrap.servers': \"localhost:29092\",\n",
    "                 'group.id': \"my_groupa\",\n",
    "                 'auto.offset.reset': 'latest'}\n",
    "\n",
    "# Crear un consumidor\n",
    "consumer = Consumer(consumer_conf)\n",
    "consumer.subscribe(['hello_kafka'])\n",
    "\n",
    "# Función para recibir y mostrar mensajes\n",
    "def receive_message():\n",
    "    msg = consumer.poll(timeout=1.0)\n",
    "    if msg is not None:\n",
    "        print('Mensaje recibido: {}'.format(msg.value().decode('utf-8')))\n",
    "\n",
    "# Mantener el consumidor siempre escuchando\n",
    "while True:\n",
    "    receive_message()\n"
   ]
  }
 ],
 "metadata": {
  "kernelspec": {
   "display_name": "venv",
   "language": "python",
   "name": "python3"
  },
  "language_info": {
   "codemirror_mode": {
    "name": "ipython",
    "version": 3
   },
   "file_extension": ".py",
   "mimetype": "text/x-python",
   "name": "python",
   "nbconvert_exporter": "python",
   "pygments_lexer": "ipython3",
   "version": "3.10.12"
  }
 },
 "nbformat": 4,
 "nbformat_minor": 2
}
